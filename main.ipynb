{
 "metadata": {
  "language_info": {
   "codemirror_mode": {
    "name": "ipython",
    "version": 3
   },
   "file_extension": ".py",
   "mimetype": "text/x-python",
   "name": "python",
   "nbconvert_exporter": "python",
   "pygments_lexer": "ipython3",
   "version": "3.8.8-final"
  },
  "orig_nbformat": 2,
  "kernelspec": {
   "name": "python3",
   "display_name": "Python 3.8.8 64-bit ('computer_vision': conda)",
   "metadata": {
    "interpreter": {
     "hash": "be3dbdf4f8c8f880db6d10ab10235f27205772f4533c0354f8be9cb05c48a59f"
    }
   }
  }
 },
 "nbformat": 4,
 "nbformat_minor": 2,
 "cells": [
  {
   "source": [
    "### Problem Description\n",
    "Write a program that prints the numbers from 1 to 100. But for multiples of three print “Fizz” \n",
    "instead of the number and for the multiples of five print “Buzz”. For numbers which are multiples \n",
    "of both three and five print “FizzBuzz”.\n",
    "\"\"\"\n"
   ],
   "cell_type": "markdown",
   "metadata": {}
  },
  {
   "cell_type": "code",
   "execution_count": 4,
   "metadata": {},
   "outputs": [],
   "source": [
    "def simple_solution():\n",
    "    \"\"\"\n",
    "    Simple solution to fizzbuzz.\n",
    "    \"\"\"\n",
    "    for i in range(1, 101):\n",
    "        if i % 3 == 0 and i % 5 == 0:\n",
    "            print(\"FizzBuzz\")\n",
    "        elif i % 3 == 0:\n",
    "            print(\"Fizz\")\n",
    "        elif i % 5 == 0:\n",
    "            print(\"Buzz\")\n",
    "        else:\n",
    "            print(i)"
   ]
  },
  {
   "cell_type": "code",
   "execution_count": 5,
   "metadata": {},
   "outputs": [],
   "source": [
    "def more_complex_solution():\n",
    "    \"\"\"\n",
    "    A slightly more complex solution.\n",
    "    \"\"\"\n",
    "    for i in range(1, 101):\n",
    "        out = \"\"\n",
    "        if i % 3 == 0:\n",
    "            out += \"Fizz\"\n",
    "        if i % 5 == 0:\n",
    "            out += \"Buzz\"\n",
    "        if out == \"\":\n",
    "            out += str(i)\n",
    "        print(out)"
   ]
  },
  {
   "cell_type": "code",
   "execution_count": null,
   "metadata": {},
   "outputs": [],
   "source": [
    "# def even_more_complex_solution():\n",
    "#     mod_dict = {3: \"Fizz\", 5: \"Buzz\"}\n",
    "#     for i in range(1, 101):\n",
    "#         out = \"\""
   ]
  }
 ]
}